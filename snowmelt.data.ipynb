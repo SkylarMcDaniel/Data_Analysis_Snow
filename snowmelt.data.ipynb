{
 "cells": [
  {
   "cell_type": "code",
   "execution_count": 1,
   "metadata": {},
   "outputs": [],
   "source": [
    "import numpy as np"
   ]
  },
  {
   "cell_type": "code",
   "execution_count": 11,
   "metadata": {},
   "outputs": [],
   "source": [
    "import pandas as pd\n",
    "import statsmodels.api as sm\n",
    "from statsmodels.formula.api import ols"
   ]
  },
  {
   "cell_type": "code",
   "execution_count": 69,
   "metadata": {
    "scrolled": false
   },
   "outputs": [],
   "source": [
    "df = pd.read_excel('C:/Users/Skylar/Documents/Snow_Manipulation_Data.xlsx', sheet_name = 'Snow Depth')"
   ]
  },
  {
   "cell_type": "code",
   "execution_count": 44,
   "metadata": {},
   "outputs": [
    {
     "data": {
      "text/plain": [
       "<matplotlib.axes._subplots.AxesSubplot at 0x1e82416deb0>"
      ]
     },
     "execution_count": 44,
     "metadata": {},
     "output_type": "execute_result"
    },
    {
     "data": {
      "image/png": "[encoded data removed]",
      "text/plain": [
       "<Figure size 432x288 with 1 Axes>"
      ]
     },
     "metadata": {
      "needs_background": "light"
     },
     "output_type": "display_data"
    }
   ],
   "source": [
    "df.boxplot(\"Depth1\", by=\"Treatment\")"
   ]
  },
  {
   "cell_type": "code",
   "execution_count": 49,
   "metadata": {},
   "outputs": [
    {
     "name": "stdout",
     "output_type": "stream",
     "text": [
      "               sum_sq    df          F        PR(>F)\n",
      "Treatment  3636.37782   2.0  26.437722  1.069875e-09\n",
      "Residual   5983.20968  87.0        NaN           NaN\n"
     ]
    }
   ],
   "source": [
    "mod1 = ols('Average_Depth ~ Treatment', data = df).fit()\n",
    "aov_table = sm.stats.anova_lm(mod1, typ=2)\n",
    "print(aov_table)\n",
    "\n"
   ]
  },
  {
   "cell_type": "code",
   "execution_count": 67,
   "metadata": {},
   "outputs": [
    {
     "name": "stdout",
     "output_type": "stream",
     "text": [
      "             sum_sq    df         F    PR(>F)\n",
      "Treatment  1.435897   2.0  1.346154  0.303597\n",
      "Residual   5.333333  10.0       NaN       NaN\n"
     ]
    }
   ],
   "source": [
    "new_df = df.loc[df[\"Average_Depth\"] == 0] \n",
    "mod2 = ols('Date ~ Treatment', data = new_df).fit()\n",
    "aov_tab2 = sm.stats.anova_lm(mod2, typ=2)\n",
    "print(aov_tab2)"
   ]
  },
  {
   "cell_type": "code",
   "execution_count": null,
   "metadata": {},
   "outputs": [],
   "source": []
  }
 ],
 "metadata": {
  "kernelspec": {
   "display_name": "Python 3",
   "language": "python",
   "name": "python3"
  },
  "language_info": {
   "codemirror_mode": {
    "name": "ipython",
    "version": 3
   },
   "file_extension": ".py",
   "mimetype": "text/x-python",
   "name": "python",
   "nbconvert_exporter": "python",
   "pygments_lexer": "ipython3",
   "version": "3.8.3"
  }
 },
 "nbformat": 4,
 "nbformat_minor": 4
}
